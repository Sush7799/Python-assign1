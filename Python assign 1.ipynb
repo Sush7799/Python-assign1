{
 "cells": [
  {
   "cell_type": "markdown",
   "id": "270d7e29",
   "metadata": {},
   "source": [
    "1.Simple Message: Store a message in a variable, and then print that message."
   ]
  },
  {
   "cell_type": "code",
   "execution_count": 28,
   "id": "a44f10cb",
   "metadata": {},
   "outputs": [
    {
     "name": "stdout",
     "output_type": "stream",
     "text": [
      "Starting my first Python assign\n"
     ]
    }
   ],
   "source": [
    "Message= \"Starting my first Python assign\"\n",
    "print(Message)"
   ]
  },
  {
   "cell_type": "markdown",
   "id": "d9fc6148",
   "metadata": {},
   "source": [
    "2.Store a message in a variable and print that message. Then change the value of your variable to a new message and print the new message."
   ]
  },
  {
   "cell_type": "code",
   "execution_count": 29,
   "id": "e8958086",
   "metadata": {},
   "outputs": [
    {
     "name": "stdout",
     "output_type": "stream",
     "text": [
      "Starting my first Python assign\n",
      "Learning stage\n"
     ]
    }
   ],
   "source": [
    "Message= \"Starting my first Python assign\"\n",
    "print(Message)\n",
    "Message= \"Learning stage\"\n",
    "print(Message)"
   ]
  },
  {
   "cell_type": "markdown",
   "id": "ff290595",
   "metadata": {},
   "source": [
    "3.Store a person’s name in a variable and print a message to that person. Your message should be simple, such as, “Hello Eric, would you like to learn some Python today?”"
   ]
  },
  {
   "cell_type": "code",
   "execution_count": 30,
   "id": "837f8268",
   "metadata": {},
   "outputs": [
    {
     "name": "stdout",
     "output_type": "stream",
     "text": [
      "Hello Riya, would you like to eat chocolate?\n"
     ]
    }
   ],
   "source": [
    "Name= \"Riya\"\n",
    "print(f\"Hello {Name}, would you like to eat chocolate?\")"
   ]
  },
  {
   "cell_type": "markdown",
   "id": "89184d4c",
   "metadata": {},
   "source": [
    "4.Find a quote from a famous person you admire. Print the quote and the name of its author. Your output should look something like the following, including the quotation marks: Albert Einstein once said, “A person who never made a mistake never tried anything new.”"
   ]
  },
  {
   "cell_type": "code",
   "execution_count": 31,
   "id": "076a32ee",
   "metadata": {},
   "outputs": [
    {
     "name": "stdout",
     "output_type": "stream",
     "text": [
      "MS Dhoni once said, \"Face the failure,until the failure fails to face you\"\n"
     ]
    }
   ],
   "source": [
    "Quote= '\"Face the failure,until the failure fails to face you\"'\n",
    "print(\"MS Dhoni once said\"',', Quote)"
   ]
  },
  {
   "cell_type": "markdown",
   "id": "c2c80936",
   "metadata": {},
   "source": [
    "5.Repeat Exercise 4, but this time store the famous person’s name in a variable called famous_person. Then compose your message and store it in a new variable called message. Print your message."
   ]
  },
  {
   "cell_type": "code",
   "execution_count": 32,
   "id": "f894aef0",
   "metadata": {},
   "outputs": [
    {
     "name": "stdout",
     "output_type": "stream",
     "text": [
      "MS Dhoni said- Face the failure,until the failure fails to face you.\n"
     ]
    }
   ],
   "source": [
    "famous_person= \"MS Dhoni\"\n",
    "message= \"Face the failure,until the failure fails to face you.\"\n",
    "print(f\"{famous_person} said-\",message)"
   ]
  },
  {
   "cell_type": "markdown",
   "id": "65f4d10a",
   "metadata": {},
   "source": [
    "6.Write addition, subtraction, multiplication, and division operations that each result in the number 8. Be sure to enclose your operations in print statements to see the results. You should create four lines that look like this: print (5 + 3) Your output should simply be four lines with the number 8 appearing once on each line."
   ]
  },
  {
   "cell_type": "code",
   "execution_count": 33,
   "id": "70844f65",
   "metadata": {},
   "outputs": [
    {
     "name": "stdout",
     "output_type": "stream",
     "text": [
      "8\n",
      "8\n",
      "8\n",
      "8.0\n"
     ]
    }
   ],
   "source": [
    "a=4\n",
    "b=4\n",
    "c=a+b\n",
    "print(c)\n",
    "a=10\n",
    "b=2\n",
    "c=a-b\n",
    "print(c)\n",
    "a=2\n",
    "b=4\n",
    "c=a*b\n",
    "print(c)\n",
    "a=8\n",
    "b=1\n",
    "c=a/b\n",
    "print(c)"
   ]
  },
  {
   "cell_type": "markdown",
   "id": "e8eec3dd",
   "metadata": {},
   "source": [
    "7.Store your favourite number in a variable. Then, using that variable, create a message that reveals your favourite number. Print that message."
   ]
  },
  {
   "cell_type": "code",
   "execution_count": 34,
   "id": "ab8aa60d",
   "metadata": {},
   "outputs": [
    {
     "name": "stdout",
     "output_type": "stream",
     "text": [
      "18 is my favourite number\n"
     ]
    }
   ],
   "source": [
    "a=18\n",
    "message=\"my favourite number\"\n",
    "print(a, \"is\", message)"
   ]
  },
  {
   "cell_type": "markdown",
   "id": "96fdff60",
   "metadata": {},
   "source": [
    "8.Choose two of the programs you’ve written and add at least one comment to each. If you don’t have anything specific to write because your programs are too simple at this point, just add your name and the current date at the top of each program file. Then write one sentence describing what the program does."
   ]
  },
  {
   "cell_type": "code",
   "execution_count": 35,
   "id": "0598f3dd",
   "metadata": {},
   "outputs": [
    {
     "name": "stdout",
     "output_type": "stream",
     "text": [
      "My name issushmita\n",
      "dd/mm/yyyy11/02/2022\n",
      "Hi everyone,I am here to learn Python\n",
      "<class 'str'>\n",
      "Hi everyone,I am here to learn Python\n",
      "2488959798384\n"
     ]
    }
   ],
   "source": [
    "name=input(\"My name is\")\n",
    "date=input(\"dd/mm/yyyy\")\n",
    "text=(\"Hi everyone,I am here to learn Python\")\n",
    "print(text)\n",
    "print(type(name)) ## To check the type of variable\n",
    "\n",
    "text1=(\"Hope get chance to explore more\")\n",
    "print(text)\n",
    "print(id(date))  ## Address of a varibale in your memory location"
   ]
  },
  {
   "cell_type": "markdown",
   "id": "c3531627",
   "metadata": {},
   "source": [
    "9.Store the names of a few of your friends in a list called names. Print each person’s name by accessing each element in the list, one at a time."
   ]
  },
  {
   "cell_type": "code",
   "execution_count": 39,
   "id": "337526af",
   "metadata": {},
   "outputs": [
    {
     "name": "stdout",
     "output_type": "stream",
     "text": [
      "name of friend list - Neha,Srikant,Payal,Puja\n",
      "friends nameNeha\n"
     ]
    }
   ],
   "source": [
    "names= \"Neha,Srikant,Payal,Puja\"\n",
    "print(\"name of friend list\",\"-\",names)\n",
    "names=input('friends name')"
   ]
  },
  {
   "cell_type": "markdown",
   "id": "5c3c1808",
   "metadata": {},
   "source": [
    "10.Start with the list you used in Exercise 9, but instead of just printing each person’s name, print a message to them. The text of each message should be the same, but each message should be personalized with the person’s name."
   ]
  },
  {
   "cell_type": "code",
   "execution_count": 45,
   "id": "be9de5f9",
   "metadata": {},
   "outputs": [
    {
     "name": "stdout",
     "output_type": "stream",
     "text": [
      "Neha shall we go for movie this weekend? \n",
      "Srikant shall we go for movie this weekend? \n",
      "Payal shall we go for movie this weekend? \n",
      "Puja shall we go for movie this weekend?\n"
     ]
    }
   ],
   "source": [
    "names= \"Neha,Srikant,Payal,Puja\"\n",
    "message= \"shall we go for movie this weekend?\"\n",
    "print(\"Neha\", message, \"\\nSrikant\", message, \"\\nPayal\", message, \"\\nPuja\", message)"
   ]
  },
  {
   "cell_type": "code",
   "execution_count": null,
   "id": "cad3e44f",
   "metadata": {},
   "outputs": [],
   "source": []
  }
 ],
 "metadata": {
  "kernelspec": {
   "display_name": "Python 3 (ipykernel)",
   "language": "python",
   "name": "python3"
  },
  "language_info": {
   "codemirror_mode": {
    "name": "ipython",
    "version": 3
   },
   "file_extension": ".py",
   "mimetype": "text/x-python",
   "name": "python",
   "nbconvert_exporter": "python",
   "pygments_lexer": "ipython3",
   "version": "3.9.7"
  }
 },
 "nbformat": 4,
 "nbformat_minor": 5
}
